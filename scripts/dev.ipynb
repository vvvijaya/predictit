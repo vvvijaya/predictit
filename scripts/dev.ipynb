{
 "cells": [
  {
   "cell_type": "code",
   "execution_count": 1,
   "metadata": {},
   "outputs": [],
   "source": [
    "import requests, dbt, pandas \n",
    "import snowflake.connector\n",
    "from snowflake.connector.pandas_tools import write_pandas\n"
   ]
  },
  {
   "cell_type": "code",
   "execution_count": 3,
   "metadata": {},
   "outputs": [
    {
     "name": "stdout",
     "output_type": "stream",
     "text": [
      "connected!\n"
     ]
    }
   ],
   "source": [
    "con = snowflake.connector.connect(\n",
    "    account = 'pxtowie-ls78219',\n",
    "    password = 'dbtPassword123',\n",
    "    user = 'dbt_predictit',\n",
    "    database='PREDICTIT',\n",
    "    schema='raw' #,    enable_connection_diag=True\n",
    ")\n",
    "print('connected!')"
   ]
  },
  {
   "cell_type": "code",
   "execution_count": 5,
   "metadata": {},
   "outputs": [
    {
     "ename": "MissingDependencyError",
     "evalue": "Missing optional dependency: pandas",
     "output_type": "error",
     "traceback": [
      "\u001b[0;31m---------------------------------------------------------------------------\u001b[0m",
      "\u001b[0;31mMissingDependencyError\u001b[0m                    Traceback (most recent call last)",
      "Cell \u001b[0;32mIn[5], line 4\u001b[0m\n\u001b[1;32m      2\u001b[0m \u001b[38;5;28;01mif\u001b[39;00m resp\u001b[38;5;241m.\u001b[39mstatus_code \u001b[38;5;241m==\u001b[39m \u001b[38;5;241m200\u001b[39m:\n\u001b[1;32m      3\u001b[0m     df \u001b[38;5;241m=\u001b[39m pandas\u001b[38;5;241m.\u001b[39mDataFrame(resp\u001b[38;5;241m.\u001b[39mjson()[\u001b[38;5;124m'\u001b[39m\u001b[38;5;124mmarkets\u001b[39m\u001b[38;5;124m'\u001b[39m])\u001b[38;5;241m.\u001b[39mreset_index(drop\u001b[38;5;241m=\u001b[39m\u001b[38;5;28;01mTrue\u001b[39;00m)\n\u001b[0;32m----> 4\u001b[0m \u001b[43mwrite_pandas\u001b[49m\u001b[43m(\u001b[49m\u001b[43mcon\u001b[49m\u001b[43m,\u001b[49m\u001b[43m \u001b[49m\u001b[43mdf\u001b[49m\u001b[43m,\u001b[49m\u001b[43m \u001b[49m\u001b[38;5;124;43m'\u001b[39;49m\u001b[38;5;124;43mraw_market\u001b[39;49m\u001b[38;5;124;43m'\u001b[39;49m\u001b[43m,\u001b[49m\u001b[43m \u001b[49m\u001b[43mauto_create_table\u001b[49m\u001b[38;5;241;43m=\u001b[39;49m\u001b[38;5;28;43;01mTrue\u001b[39;49;00m\u001b[43m)\u001b[49m\n",
      "File \u001b[0;32m~/Development/predictit/venv/lib/python3.13/site-packages/snowflake/connector/pandas_tools.py:349\u001b[0m, in \u001b[0;36mwrite_pandas\u001b[0;34m(conn, df, table_name, database, schema, chunk_size, compression, on_error, parallel, quote_identifiers, auto_create_table, create_temp_table, overwrite, table_type, use_logical_type, **kwargs)\u001b[0m\n\u001b[1;32m    345\u001b[0m \u001b[38;5;28;01mif\u001b[39;00m chunk_size \u001b[38;5;129;01mis\u001b[39;00m \u001b[38;5;28;01mNone\u001b[39;00m:\n\u001b[1;32m    346\u001b[0m     chunk_size \u001b[38;5;241m=\u001b[39m \u001b[38;5;28mlen\u001b[39m(df)\n\u001b[1;32m    348\u001b[0m \u001b[38;5;28;01mif\u001b[39;00m \u001b[38;5;129;01mnot\u001b[39;00m (\n\u001b[0;32m--> 349\u001b[0m     \u001b[38;5;28misinstance\u001b[39m(df\u001b[38;5;241m.\u001b[39mindex, \u001b[43mpandas\u001b[49m\u001b[38;5;241;43m.\u001b[39;49m\u001b[43mRangeIndex\u001b[49m)\n\u001b[1;32m    350\u001b[0m     \u001b[38;5;129;01mand\u001b[39;00m \u001b[38;5;241m1\u001b[39m \u001b[38;5;241m==\u001b[39m df\u001b[38;5;241m.\u001b[39mindex\u001b[38;5;241m.\u001b[39mstep\n\u001b[1;32m    351\u001b[0m     \u001b[38;5;129;01mand\u001b[39;00m \u001b[38;5;241m0\u001b[39m \u001b[38;5;241m==\u001b[39m df\u001b[38;5;241m.\u001b[39mindex\u001b[38;5;241m.\u001b[39mstart\n\u001b[1;32m    352\u001b[0m ):\n\u001b[1;32m    353\u001b[0m     warnings\u001b[38;5;241m.\u001b[39mwarn(\n\u001b[1;32m    354\u001b[0m         \u001b[38;5;124mf\u001b[39m\u001b[38;5;124m\"\u001b[39m\u001b[38;5;124mPandas Dataframe has non-standard index of type \u001b[39m\u001b[38;5;132;01m{\u001b[39;00m\u001b[38;5;28mstr\u001b[39m(\u001b[38;5;28mtype\u001b[39m(df\u001b[38;5;241m.\u001b[39mindex))\u001b[38;5;132;01m}\u001b[39;00m\u001b[38;5;124m which will not be written.\u001b[39m\u001b[38;5;124m\"\u001b[39m\n\u001b[1;32m    355\u001b[0m         \u001b[38;5;124mf\u001b[39m\u001b[38;5;124m\"\u001b[39m\u001b[38;5;124m Consider changing the index to pd.RangeIndex(start=0,...,step=1) or \u001b[39m\u001b[38;5;124m\"\u001b[39m\n\u001b[0;32m   (...)\u001b[0m\n\u001b[1;32m    358\u001b[0m         stacklevel\u001b[38;5;241m=\u001b[39m\u001b[38;5;241m2\u001b[39m,\n\u001b[1;32m    359\u001b[0m     )\n\u001b[1;32m    361\u001b[0m \u001b[38;5;66;03m# use_logical_type should be True when dataframe contains datetimes with timezone.\u001b[39;00m\n\u001b[1;32m    362\u001b[0m \u001b[38;5;66;03m# https://github.com/snowflakedb/snowflake-connector-python/issues/1687\u001b[39;00m\n",
      "File \u001b[0;32m~/Development/predictit/venv/lib/python3.13/site-packages/snowflake/connector/options.py:40\u001b[0m, in \u001b[0;36mMissingOptionalDependency.__getattr__\u001b[0;34m(self, item)\u001b[0m\n\u001b[1;32m     39\u001b[0m \u001b[38;5;28;01mdef\u001b[39;00m\u001b[38;5;250m \u001b[39m\u001b[38;5;21m__getattr__\u001b[39m(\u001b[38;5;28mself\u001b[39m, item):\n\u001b[0;32m---> 40\u001b[0m     \u001b[38;5;28;01mraise\u001b[39;00m errors\u001b[38;5;241m.\u001b[39mMissingDependencyError(\u001b[38;5;28mself\u001b[39m\u001b[38;5;241m.\u001b[39m_dep_name)\n",
      "\u001b[0;31mMissingDependencyError\u001b[0m: Missing optional dependency: pandas"
     ]
    }
   ],
   "source": [
    "resp = requests.get('https://www.predictit.org/api/marketdata/all/')\n",
    "if resp.status_code == 200:\n",
    "    df = pandas.DataFrame(resp.json()['markets']).reset_index(drop=True)\n",
    "write_pandas(con, df, 'raw_market', auto_create_table=True)"
   ]
  },
  {
   "cell_type": "code",
   "execution_count": 5,
   "metadata": {},
   "outputs": [
    {
     "data": {
      "application/vnd.microsoft.datawrangler.viewer.v0+json": {
       "columns": [
        {
         "name": "index",
         "rawType": "int64",
         "type": "integer"
        },
        {
         "name": "id",
         "rawType": "int64",
         "type": "integer"
        },
        {
         "name": "name",
         "rawType": "object",
         "type": "string"
        },
        {
         "name": "shortName",
         "rawType": "object",
         "type": "string"
        },
        {
         "name": "image",
         "rawType": "object",
         "type": "string"
        },
        {
         "name": "url",
         "rawType": "object",
         "type": "string"
        },
        {
         "name": "contracts",
         "rawType": "object",
         "type": "unknown"
        },
        {
         "name": "timeStamp",
         "rawType": "object",
         "type": "string"
        },
        {
         "name": "status",
         "rawType": "object",
         "type": "string"
        }
       ],
       "conversionMethod": "pd.DataFrame",
       "ref": "2f7932ff-2ddb-4b22-8212-d0ba6cc23ac5",
       "rows": [
        [
         "0",
         "8095",
         "Who will win the Democratic nomination for Mayor of New York?",
         "NYC Mayor Democratic nominee?",
         "https://cdn1.predictit.org/images/Markets/05e21e30-1781-4dc5-9e0e-d6179dc0042f.jpg",
         "https://www.predictit.org/markets/detail/8095/Who-will-win-the-Democratic-nomination-for-Mayor-of-New-York",
         "[{'id': 31464, 'dateEnd': 'NA', 'image': 'https://cdn1.predictit.org/images/Contracts/small_764b685a-91a0-4262-b0f9-511659ef409d.jpg', 'name': 'Andrew Cuomo', 'shortName': 'Cuomo', 'status': 'Open', 'lastTradePrice': 0.66, 'bestBuyYesCost': 0.68, 'bestBuyNoCost': 0.34, 'bestSellYesCost': 0.66, 'bestSellNoCost': 0.32, 'lastClosePrice': 0.66, 'displayOrder': 0}, {'id': 31459, 'dateEnd': 'NA', 'image': 'https://cdn1.predictit.org/images/Contracts/small_aad7d31c-c23f-4cb5-8d9c-30b70acc5c24.jpg', 'name': 'Eric Adams', 'shortName': 'Adams', 'status': 'Open', 'lastTradePrice': 0.1, 'bestBuyYesCost': 0.1, 'bestBuyNoCost': 0.91, 'bestSellYesCost': 0.09, 'bestSellNoCost': 0.9, 'lastClosePrice': 0.09, 'displayOrder': 0}, {'id': 31458, 'dateEnd': 'NA', 'image': 'https://cdn1.predictit.org/images/Contracts/small_9e38cd20-38f8-41f0-8af5-4dc129b7288f.png', 'name': 'Brad Lander', 'shortName': 'Lander', 'status': 'Open', 'lastTradePrice': 0.06, 'bestBuyYesCost': 0.07, 'bestBuyNoCost': 0.94, 'bestSellYesCost': 0.06, 'bestSellNoCost': 0.93, 'lastClosePrice': 0.06, 'displayOrder': 0}, {'id': 31460, 'dateEnd': 'NA', 'image': 'https://cdn1.predictit.org/images/Contracts/small_4112d125-f5c2-467a-8fd3-0f329cc5f67d.png', 'name': 'Zohran Mamdani', 'shortName': 'Mamdani', 'status': 'Open', 'lastTradePrice': 0.06, 'bestBuyYesCost': 0.07, 'bestBuyNoCost': 0.95, 'bestSellYesCost': 0.05, 'bestSellNoCost': 0.93, 'lastClosePrice': 0.05, 'displayOrder': 0}, {'id': 31462, 'dateEnd': 'NA', 'image': 'https://cdn1.predictit.org/images/Contracts/small_f718df2d-06cf-419f-8251-a19b33904e08.jpg', 'name': 'Scott Stringer', 'shortName': 'Stringer', 'status': 'Open', 'lastTradePrice': 0.05, 'bestBuyYesCost': 0.06, 'bestBuyNoCost': 0.95, 'bestSellYesCost': 0.05, 'bestSellNoCost': 0.94, 'lastClosePrice': 0.05, 'displayOrder': 0}, {'id': 31466, 'dateEnd': 'NA', 'image': 'https://cdn1.predictit.org/images/Contracts/small_bd322f9d-8daf-49cd-bb8a-a2d35d5b2097.png', 'name': 'Jumaane Williams', 'shortName': 'Williams', 'status': 'Open', 'lastTradePrice': 0.04, 'bestBuyYesCost': 0.05, 'bestBuyNoCost': 0.96, 'bestSellYesCost': 0.04, 'bestSellNoCost': 0.95, 'lastClosePrice': 0.04, 'displayOrder': 0}, {'id': 31461, 'dateEnd': 'NA', 'image': 'https://cdn1.predictit.org/images/Contracts/small_5733b29a-792d-45ce-ad6c-476484024f35.png', 'name': 'Zellnor Myrie', 'shortName': 'Myrie', 'status': 'Open', 'lastTradePrice': 0.03, 'bestBuyYesCost': 0.04, 'bestBuyNoCost': 0.97, 'bestSellYesCost': 0.03, 'bestSellNoCost': 0.96, 'lastClosePrice': 0.03, 'displayOrder': 0}, {'id': 31465, 'dateEnd': 'NA', 'image': 'https://cdn1.predictit.org/images/Contracts/small_6f4339f0-790e-4710-9f0b-17e1373c99f5.png', 'name': 'Letitia James', 'shortName': 'James', 'status': 'Open', 'lastTradePrice': 0.03, 'bestBuyYesCost': 0.03, 'bestBuyNoCost': 0.98, 'bestSellYesCost': 0.02, 'bestSellNoCost': 0.97, 'lastClosePrice': 0.02, 'displayOrder': 0}, {'id': 31463, 'dateEnd': 'NA', 'image': 'https://cdn1.predictit.org/images/Contracts/small_f8961119-09de-440a-9393-e5d5ff0d1768.png', 'name': 'Jessica Ramos', 'shortName': 'Ramos', 'status': 'Open', 'lastTradePrice': 0.02, 'bestBuyYesCost': 0.03, 'bestBuyNoCost': 0.99, 'bestSellYesCost': 0.01, 'bestSellNoCost': 0.97, 'lastClosePrice': 0.02, 'displayOrder': 0}]",
         "2025-02-21T14:00:58.2098913",
         "Open"
        ],
        [
         "1",
         "8099",
         "Which party will win the 2025 gubernatorial election in Virginia?",
         "Which party will win VA governor's race?",
         "https://cdn1.predictit.org/images/Markets/ca454a69-e4eb-4e25-9d68-aa8a9902e571.jpg",
         "https://www.predictit.org/markets/detail/8099/Which-party-will-win-the-2025-gubernatorial-election-in-Virginia",
         "[{'id': 31488, 'dateEnd': 'NA', 'image': 'https://cdn1.predictit.org/images/Contracts/small_34d54d67-380f-474a-85e1-b8e764160897.jpg', 'name': 'Democratic', 'shortName': 'Democratic', 'status': 'Open', 'lastTradePrice': 0.79, 'bestBuyYesCost': 0.79, 'bestBuyNoCost': 0.22, 'bestSellYesCost': 0.78, 'bestSellNoCost': 0.21, 'lastClosePrice': 0.79, 'displayOrder': 0}, {'id': 31487, 'dateEnd': 'NA', 'image': 'https://cdn1.predictit.org/images/Contracts/small_0876890d-22c8-4a07-b9dd-7719754eee7e.jpg', 'name': 'Republican', 'shortName': 'Republican', 'status': 'Open', 'lastTradePrice': 0.21, 'bestBuyYesCost': 0.21, 'bestBuyNoCost': 0.8, 'bestSellYesCost': 0.2, 'bestSellNoCost': 0.79, 'lastClosePrice': 0.22, 'displayOrder': 0}]",
         "2025-02-21T14:00:58.2098913",
         "Open"
        ],
        [
         "2",
         "8100",
         "Will Congress confirm a Supreme Court justice in 2025?",
         "SCOTUS justice confirmed in 2025?",
         "https://cdn1.predictit.org/images/Markets/7065b8cf-5957-4354-9078-601e13e3c823.png",
         "https://www.predictit.org/markets/detail/8100/Will-Congress-confirm-a-Supreme-Court-justice-in-2025",
         "[{'id': 31489, 'dateEnd': '2025-12-31T23:59:00', 'image': 'https://cdn1.predictit.org/images/Contracts/7065b8cf-5957-4354-9078-601e13e3c823.png', 'name': 'Will Congress confirm a Supreme Court justice in 2025?', 'shortName': 'SCOTUS justice confirmed in 2025?', 'status': 'Open', 'lastTradePrice': 0.32, 'bestBuyYesCost': 0.32, 'bestBuyNoCost': 0.69, 'bestSellYesCost': 0.31, 'bestSellNoCost': 0.68, 'lastClosePrice': 0.33, 'displayOrder': 0}]",
         "2025-02-21T14:00:58.2098913",
         "Open"
        ],
        [
         "3",
         "8118",
         "Who will win the Spring 2025 Wisconsin Supreme Court election?",
         "Who will win WI Supreme Court election?",
         "https://cdn1.predictit.org/images/Markets/1b2bc1e9-0fff-4733-b2bd-afceff86f700.jpg",
         "https://www.predictit.org/markets/detail/8118/Who-will-win-the-Spring-2025-Wisconsin-Supreme-Court-election",
         "[{'id': 31657, 'dateEnd': 'NA', 'image': 'https://cdn1.predictit.org/images/Contracts/small_c507208e-280e-4a44-9e6c-0829416193b4.png', 'name': 'Susan Crawford', 'shortName': 'Crawford', 'status': 'Open', 'lastTradePrice': 0.64, 'bestBuyYesCost': 0.65, 'bestBuyNoCost': 0.36, 'bestSellYesCost': 0.64, 'bestSellNoCost': 0.35, 'lastClosePrice': 0.67, 'displayOrder': 0}, {'id': 31658, 'dateEnd': 'NA', 'image': 'https://cdn1.predictit.org/images/Contracts/small_b6039d5a-cf70-4ebf-8f81-26a63634c38e.png', 'name': 'Brad Schimel', 'shortName': 'Schimel', 'status': 'Open', 'lastTradePrice': 0.36, 'bestBuyYesCost': 0.36, 'bestBuyNoCost': 0.65, 'bestSellYesCost': 0.35, 'bestSellNoCost': 0.64, 'lastClosePrice': 0.35, 'displayOrder': 0}]",
         "2025-02-21T14:00:58.2098913",
         "Open"
        ],
        [
         "4",
         "8119",
         "How many votes to confirm Lori Chavez-DeRemer as Secretary of Labor by April 30?",
         "Votes for Chavez-DeRemer as Labor Sec?",
         "https://cdn1.predictit.org/images/Markets/36dcb84a-92ff-4f37-b00b-5292aa7658f8.png",
         "https://www.predictit.org/markets/detail/8119/How-many-votes-to-confirm-Lori-Chavez-DeRemer-as-Secretary-of-Labor-by-April-30",
         "[{'id': 31659, 'dateEnd': '2025-04-30T23:59:00', 'image': 'https://cdn1.predictit.org/images/Contracts/small_36dcb84a-92ff-4f37-b00b-5292aa7658f8.png', 'name': '60 or fewer', 'shortName': '60 or fewer', 'status': 'Open', 'lastTradePrice': 0.36, 'bestBuyYesCost': 0.39, 'bestBuyNoCost': 0.64, 'bestSellYesCost': 0.36, 'bestSellNoCost': 0.61, 'lastClosePrice': 0.4, 'displayOrder': 0}, {'id': 31666, 'dateEnd': '2025-04-30T23:59:00', 'image': 'https://cdn1.predictit.org/images/Contracts/small_36dcb84a-92ff-4f37-b00b-5292aa7658f8.png', 'name': '61 to 63', 'shortName': '61 to 63', 'status': 'Open', 'lastTradePrice': 0.06, 'bestBuyYesCost': 0.07, 'bestBuyNoCost': 0.94, 'bestSellYesCost': 0.06, 'bestSellNoCost': 0.93, 'lastClosePrice': 0.07, 'displayOrder': 0}, {'id': 31667, 'dateEnd': '2025-04-30T23:59:00', 'image': 'https://cdn1.predictit.org/images/Contracts/small_36dcb84a-92ff-4f37-b00b-5292aa7658f8.png', 'name': '64 to 66', 'shortName': '64 to 66', 'status': 'Open', 'lastTradePrice': 0.1, 'bestBuyYesCost': 0.1, 'bestBuyNoCost': 0.92, 'bestSellYesCost': 0.08, 'bestSellNoCost': 0.9, 'lastClosePrice': 0.07, 'displayOrder': 0}, {'id': 31668, 'dateEnd': '2025-04-30T23:59:00', 'image': 'https://cdn1.predictit.org/images/Contracts/small_36dcb84a-92ff-4f37-b00b-5292aa7658f8.png', 'name': '67 to 69', 'shortName': '67 to 69', 'status': 'Open', 'lastTradePrice': 0.12, 'bestBuyYesCost': 0.16, 'bestBuyNoCost': 0.89, 'bestSellYesCost': 0.11, 'bestSellNoCost': 0.84, 'lastClosePrice': 0.12, 'displayOrder': 0}, {'id': 31660, 'dateEnd': '2025-04-30T23:59:00', 'image': 'https://cdn1.predictit.org/images/Contracts/small_36dcb84a-92ff-4f37-b00b-5292aa7658f8.png', 'name': '70 to 72', 'shortName': '70 to 72', 'status': 'Open', 'lastTradePrice': 0.14, 'bestBuyYesCost': 0.14, 'bestBuyNoCost': 0.89, 'bestSellYesCost': 0.11, 'bestSellNoCost': 0.86, 'lastClosePrice': 0.15, 'displayOrder': 0}, {'id': 31663, 'dateEnd': '2025-04-30T23:59:00', 'image': 'https://cdn1.predictit.org/images/Contracts/small_36dcb84a-92ff-4f37-b00b-5292aa7658f8.png', 'name': '73 to 75', 'shortName': '73 to 75', 'status': 'Open', 'lastTradePrice': 0.07, 'bestBuyYesCost': 0.1, 'bestBuyNoCost': 0.92, 'bestSellYesCost': 0.08, 'bestSellNoCost': 0.9, 'lastClosePrice': 0.08, 'displayOrder': 0}, {'id': 31661, 'dateEnd': '2025-04-30T23:59:00', 'image': 'https://cdn1.predictit.org/images/Contracts/small_36dcb84a-92ff-4f37-b00b-5292aa7658f8.png', 'name': '76 to 78', 'shortName': '76 to 78', 'status': 'Open', 'lastTradePrice': 0.09, 'bestBuyYesCost': 0.09, 'bestBuyNoCost': 0.94, 'bestSellYesCost': 0.06, 'bestSellNoCost': 0.91, 'lastClosePrice': 0.08, 'displayOrder': 0}, {'id': 31662, 'dateEnd': '2025-04-30T23:59:00', 'image': 'https://cdn1.predictit.org/images/Contracts/small_36dcb84a-92ff-4f37-b00b-5292aa7658f8.png', 'name': '79 to 81', 'shortName': '79 to 81', 'status': 'Open', 'lastTradePrice': 0.07, 'bestBuyYesCost': 0.08, 'bestBuyNoCost': 0.95, 'bestSellYesCost': 0.05, 'bestSellNoCost': 0.92, 'lastClosePrice': 0.07, 'displayOrder': 0}, {'id': 31665, 'dateEnd': '2025-04-30T23:59:00', 'image': 'https://cdn1.predictit.org/images/Contracts/small_36dcb84a-92ff-4f37-b00b-5292aa7658f8.png', 'name': '82 to 84', 'shortName': '82 to 84', 'status': 'Open', 'lastTradePrice': 0.02, 'bestBuyYesCost': 0.05, 'bestBuyNoCost': 0.99, 'bestSellYesCost': 0.01, 'bestSellNoCost': 0.95, 'lastClosePrice': 0.04, 'displayOrder': 0}, {'id': 31664, 'dateEnd': '2025-04-30T23:59:00', 'image': 'https://cdn1.predictit.org/images/Contracts/small_36dcb84a-92ff-4f37-b00b-5292aa7658f8.png', 'name': '85 or more', 'shortName': '85 or more', 'status': 'Open', 'lastTradePrice': 0.06, 'bestBuyYesCost': 0.1, 'bestBuyNoCost': 0.95, 'bestSellYesCost': 0.05, 'bestSellNoCost': 0.9, 'lastClosePrice': 0.06, 'displayOrder': 0}]",
         "2025-02-21T14:00:58.2098913",
         "Open"
        ],
        [
         "5",
         "8120",
         "How many votes to confirm Linda McMahon as Secretary of Education by April 30?",
         "Votes for McMahon at Education?",
         "https://cdn1.predictit.org/images/Markets/7fb7f9ad-3936-4d0b-82ca-45442db8c8a8.jpg",
         "https://www.predictit.org/markets/detail/8120/How-many-votes-to-confirm-Linda-McMahon-as-Secretary-of-Education-by-April-30",
         "[{'id': 31669, 'dateEnd': '2025-04-30T23:59:00', 'image': 'https://cdn1.predictit.org/images/Contracts/small_7fb7f9ad-3936-4d0b-82ca-45442db8c8a8.jpg', 'name': '52 or fewer', 'shortName': '52 or fewer', 'status': 'Open', 'lastTradePrice': 0.35, 'bestBuyYesCost': 0.39, 'bestBuyNoCost': 0.65, 'bestSellYesCost': 0.35, 'bestSellNoCost': 0.61, 'lastClosePrice': 0.4, 'displayOrder': 0}, {'id': 31675, 'dateEnd': '2025-04-30T23:59:00', 'image': 'https://cdn1.predictit.org/images/Contracts/small_7fb7f9ad-3936-4d0b-82ca-45442db8c8a8.jpg', 'name': '53 or 54', 'shortName': '53 or 54', 'status': 'Open', 'lastTradePrice': 0.72, 'bestBuyYesCost': 0.72, 'bestBuyNoCost': 0.34, 'bestSellYesCost': 0.66, 'bestSellNoCost': 0.28, 'lastClosePrice': 0.64, 'displayOrder': 0}, {'id': 31676, 'dateEnd': '2025-04-30T23:59:00', 'image': 'https://cdn1.predictit.org/images/Contracts/small_7fb7f9ad-3936-4d0b-82ca-45442db8c8a8.jpg', 'name': '55 or 56', 'shortName': '55 or 56', 'status': 'Open', 'lastTradePrice': 0.01, 'bestBuyYesCost': 0.02, 'bestBuyNoCost': 0.99, 'bestSellYesCost': 0.01, 'bestSellNoCost': 0.98, 'lastClosePrice': 0.02, 'displayOrder': 0}, {'id': 31677, 'dateEnd': '2025-04-30T23:59:00', 'image': 'https://cdn1.predictit.org/images/Contracts/small_7fb7f9ad-3936-4d0b-82ca-45442db8c8a8.jpg', 'name': '57 or 58', 'shortName': '57 or 58', 'status': 'Open', 'lastTradePrice': 0.01, 'bestBuyYesCost': 0.01, 'bestBuyNoCost': None, 'bestSellYesCost': None, 'bestSellNoCost': 0.99, 'lastClosePrice': 0.01, 'displayOrder': 0}, {'id': 31678, 'dateEnd': '2025-04-30T23:59:00', 'image': 'https://cdn1.predictit.org/images/Contracts/small_7fb7f9ad-3936-4d0b-82ca-45442db8c8a8.jpg', 'name': '59 or 60', 'shortName': '59 or 60', 'status': 'Open', 'lastTradePrice': 0.01, 'bestBuyYesCost': 0.01, 'bestBuyNoCost': None, 'bestSellYesCost': None, 'bestSellNoCost': 0.99, 'lastClosePrice': 0.01, 'displayOrder': 0}, {'id': 31670, 'dateEnd': '2025-04-30T23:59:00', 'image': 'https://cdn1.predictit.org/images/Contracts/small_7fb7f9ad-3936-4d0b-82ca-45442db8c8a8.jpg', 'name': '61 or 62', 'shortName': '61 or 62', 'status': 'Open', 'lastTradePrice': 0.01, 'bestBuyYesCost': 0.01, 'bestBuyNoCost': None, 'bestSellYesCost': None, 'bestSellNoCost': 0.99, 'lastClosePrice': 0.01, 'displayOrder': 0}, {'id': 31673, 'dateEnd': '2025-04-30T23:59:00', 'image': 'https://cdn1.predictit.org/images/Contracts/small_7fb7f9ad-3936-4d0b-82ca-45442db8c8a8.jpg', 'name': '63 or 64', 'shortName': '63 or 64', 'status': 'Open', 'lastTradePrice': 0.01, 'bestBuyYesCost': 0.01, 'bestBuyNoCost': None, 'bestSellYesCost': None, 'bestSellNoCost': 0.99, 'lastClosePrice': 0.01, 'displayOrder': 0}, {'id': 31671, 'dateEnd': '2025-04-30T23:59:00', 'image': 'https://cdn1.predictit.org/images/Contracts/small_7fb7f9ad-3936-4d0b-82ca-45442db8c8a8.jpg', 'name': '65 or 66', 'shortName': '65 or 66', 'status': 'Open', 'lastTradePrice': 0.01, 'bestBuyYesCost': 0.01, 'bestBuyNoCost': None, 'bestSellYesCost': None, 'bestSellNoCost': 0.99, 'lastClosePrice': 0.01, 'displayOrder': 0}, {'id': 31672, 'dateEnd': '2025-04-30T23:59:00', 'image': 'https://cdn1.predictit.org/images/Contracts/small_7fb7f9ad-3936-4d0b-82ca-45442db8c8a8.jpg', 'name': '67 or 68', 'shortName': '67 or 68', 'status': 'Open', 'lastTradePrice': 0.01, 'bestBuyYesCost': 0.01, 'bestBuyNoCost': None, 'bestSellYesCost': None, 'bestSellNoCost': 0.99, 'lastClosePrice': 0.01, 'displayOrder': 0}, {'id': 31674, 'dateEnd': '2025-04-30T23:59:00', 'image': 'https://cdn1.predictit.org/images/Contracts/small_7fb7f9ad-3936-4d0b-82ca-45442db8c8a8.jpg', 'name': '69 or more', 'shortName': '69 or more', 'status': 'Open', 'lastTradePrice': 0.01, 'bestBuyYesCost': 0.01, 'bestBuyNoCost': None, 'bestSellYesCost': None, 'bestSellNoCost': 0.99, 'lastClosePrice': 0.01, 'displayOrder': 0}]",
         "2025-02-21T14:00:58.2098913",
         "Open"
        ],
        [
         "6",
         "8122",
         "How many votes to confirm Elise Stefanik as UN Ambassador by April 30?",
         "Votes for Stefanik as UN Ambassador?",
         "https://cdn1.predictit.org/images/Markets/e9423152-8426-4ad5-8d1a-27dddf5d9da0.png",
         "https://www.predictit.org/markets/detail/8122/How-many-votes-to-confirm-Elise-Stefanik-as-UN-Ambassador-by-April-30",
         "[{'id': 31689, 'dateEnd': '2025-04-30T23:59:00', 'image': 'https://cdn1.predictit.org/images/Contracts/small_e9423152-8426-4ad5-8d1a-27dddf5d9da0.png', 'name': '67 or fewer', 'shortName': '67 or fewer', 'status': 'Open', 'lastTradePrice': 0.83, 'bestBuyYesCost': 0.83, 'bestBuyNoCost': 0.21, 'bestSellYesCost': 0.79, 'bestSellNoCost': 0.17, 'lastClosePrice': 0.83, 'displayOrder': 0}, {'id': 31695, 'dateEnd': '2025-04-30T23:59:00', 'image': 'https://cdn1.predictit.org/images/Contracts/small_e9423152-8426-4ad5-8d1a-27dddf5d9da0.png', 'name': '68 to 70', 'shortName': '68 to 70', 'status': 'Open', 'lastTradePrice': 0.09, 'bestBuyYesCost': 0.1, 'bestBuyNoCost': 0.91, 'bestSellYesCost': 0.09, 'bestSellNoCost': 0.9, 'lastClosePrice': 0.09, 'displayOrder': 0}, {'id': 31696, 'dateEnd': '2025-04-30T23:59:00', 'image': 'https://cdn1.predictit.org/images/Contracts/small_e9423152-8426-4ad5-8d1a-27dddf5d9da0.png', 'name': '71 to 73', 'shortName': '71 to 73', 'status': 'Open', 'lastTradePrice': 0.08, 'bestBuyYesCost': 0.09, 'bestBuyNoCost': 0.92, 'bestSellYesCost': 0.08, 'bestSellNoCost': 0.91, 'lastClosePrice': 0.09, 'displayOrder': 0}, {'id': 31697, 'dateEnd': '2025-04-30T23:59:00', 'image': 'https://cdn1.predictit.org/images/Contracts/small_e9423152-8426-4ad5-8d1a-27dddf5d9da0.png', 'name': '74 to 76', 'shortName': '74 to 76', 'status': 'Open', 'lastTradePrice': 0.04, 'bestBuyYesCost': 0.05, 'bestBuyNoCost': 0.96, 'bestSellYesCost': 0.04, 'bestSellNoCost': 0.95, 'lastClosePrice': 0.05, 'displayOrder': 0}, {'id': 31698, 'dateEnd': '2025-04-30T23:59:00', 'image': 'https://cdn1.predictit.org/images/Contracts/small_e9423152-8426-4ad5-8d1a-27dddf5d9da0.png', 'name': '77 to 79', 'shortName': '77 to 79', 'status': 'Open', 'lastTradePrice': 0.01, 'bestBuyYesCost': 0.02, 'bestBuyNoCost': 0.99, 'bestSellYesCost': 0.01, 'bestSellNoCost': 0.98, 'lastClosePrice': 0.01, 'displayOrder': 0}, {'id': 31690, 'dateEnd': '2025-04-30T23:59:00', 'image': 'https://cdn1.predictit.org/images/Contracts/small_e9423152-8426-4ad5-8d1a-27dddf5d9da0.png', 'name': '80 to 82', 'shortName': '80 to 82', 'status': 'Open', 'lastTradePrice': 0.01, 'bestBuyYesCost': 0.01, 'bestBuyNoCost': None, 'bestSellYesCost': None, 'bestSellNoCost': 0.99, 'lastClosePrice': 0.01, 'displayOrder': 0}, {'id': 31693, 'dateEnd': '2025-04-30T23:59:00', 'image': 'https://cdn1.predictit.org/images/Contracts/small_e9423152-8426-4ad5-8d1a-27dddf5d9da0.png', 'name': '83 to 85', 'shortName': '83 to 85', 'status': 'Open', 'lastTradePrice': 0.01, 'bestBuyYesCost': 0.01, 'bestBuyNoCost': None, 'bestSellYesCost': None, 'bestSellNoCost': 0.99, 'lastClosePrice': 0.01, 'displayOrder': 0}, {'id': 31691, 'dateEnd': '2025-04-30T23:59:00', 'image': 'https://cdn1.predictit.org/images/Contracts/small_e9423152-8426-4ad5-8d1a-27dddf5d9da0.png', 'name': '86 to 88', 'shortName': '86 to 88', 'status': 'Open', 'lastTradePrice': 0.01, 'bestBuyYesCost': 0.01, 'bestBuyNoCost': None, 'bestSellYesCost': None, 'bestSellNoCost': 0.99, 'lastClosePrice': 0.01, 'displayOrder': 0}, {'id': 31692, 'dateEnd': '2025-04-30T23:59:00', 'image': 'https://cdn1.predictit.org/images/Contracts/small_e9423152-8426-4ad5-8d1a-27dddf5d9da0.png', 'name': '89 to 91', 'shortName': '89 to 91', 'status': 'Open', 'lastTradePrice': 0.01, 'bestBuyYesCost': 0.01, 'bestBuyNoCost': None, 'bestSellYesCost': None, 'bestSellNoCost': 0.99, 'lastClosePrice': 0.01, 'displayOrder': 0}, {'id': 31694, 'dateEnd': '2025-04-30T23:59:00', 'image': 'https://cdn1.predictit.org/images/Contracts/small_e9423152-8426-4ad5-8d1a-27dddf5d9da0.png', 'name': '92 or more', 'shortName': '92 or more', 'status': 'Open', 'lastTradePrice': 0.01, 'bestBuyYesCost': 0.01, 'bestBuyNoCost': None, 'bestSellYesCost': None, 'bestSellNoCost': 0.99, 'lastClosePrice': 0.01, 'displayOrder': 0}]",
         "2025-02-21T14:00:58.2098913",
         "Open"
        ],
        [
         "7",
         "8123",
         "Who will win the 2025 New Jersey Democratic gubernatorial nomination?",
         "NJ Governor Democratic nominee?",
         "https://cdn1.predictit.org/images/Markets/2847d8ab-fa6c-4241-99b8-31f7fb6bc2c5.jpg",
         "https://www.predictit.org/markets/detail/8123/Who-will-win-the-2025-New-Jersey-Democratic-gubernatorial-nomination",
         "[{'id': 31702, 'dateEnd': 'NA', 'image': 'https://cdn1.predictit.org/images/Contracts/small_94d6c30f-ecaf-4024-a823-4bf05b050cce.jpg', 'name': 'Mikie Sherrill', 'shortName': 'Sherrill', 'status': 'Open', 'lastTradePrice': 0.74, 'bestBuyYesCost': 0.73, 'bestBuyNoCost': 0.3, 'bestSellYesCost': 0.7, 'bestSellNoCost': 0.27, 'lastClosePrice': 0.74, 'displayOrder': 0}, {'id': 31701, 'dateEnd': 'NA', 'image': 'https://cdn1.predictit.org/images/Contracts/small_94d6c30f-ecaf-4024-a823-4bf05b050cce.jpg', 'name': 'Josh Gottheimer', 'shortName': 'Gottheimer', 'status': 'Open', 'lastTradePrice': 0.2, 'bestBuyYesCost': 0.2, 'bestBuyNoCost': 0.82, 'bestSellYesCost': 0.18, 'bestSellNoCost': 0.8, 'lastClosePrice': 0.19, 'displayOrder': 0}, {'id': 31700, 'dateEnd': 'NA', 'image': 'https://cdn1.predictit.org/images/Contracts/small_94d6c30f-ecaf-4024-a823-4bf05b050cce.jpg', 'name': 'Steven Fulop', 'shortName': 'Fulop', 'status': 'Open', 'lastTradePrice': 0.07, 'bestBuyYesCost': 0.09, 'bestBuyNoCost': 0.93, 'bestSellYesCost': 0.07, 'bestSellNoCost': 0.91, 'lastClosePrice': 0.07, 'displayOrder': 0}, {'id': 31704, 'dateEnd': 'NA', 'image': 'https://cdn1.predictit.org/images/Contracts/small_94d6c30f-ecaf-4024-a823-4bf05b050cce.jpg', 'name': 'Stephen Sweeney', 'shortName': 'Sweeney', 'status': 'Open', 'lastTradePrice': 0.05, 'bestBuyYesCost': 0.04, 'bestBuyNoCost': 0.97, 'bestSellYesCost': 0.03, 'bestSellNoCost': 0.96, 'lastClosePrice': 0.03, 'displayOrder': 0}, {'id': 31699, 'dateEnd': 'NA', 'image': 'https://cdn1.predictit.org/images/Contracts/small_94d6c30f-ecaf-4024-a823-4bf05b050cce.jpg', 'name': 'Ras Baraka', 'shortName': 'Baraka', 'status': 'Open', 'lastTradePrice': 0.04, 'bestBuyYesCost': 0.04, 'bestBuyNoCost': 0.97, 'bestSellYesCost': 0.03, 'bestSellNoCost': 0.96, 'lastClosePrice': 0.03, 'displayOrder': 0}, {'id': 31703, 'dateEnd': 'NA', 'image': 'https://cdn1.predictit.org/images/Contracts/small_94d6c30f-ecaf-4024-a823-4bf05b050cce.jpg', 'name': 'Sean Spiller', 'shortName': 'Spiller', 'status': 'Open', 'lastTradePrice': 0.01, 'bestBuyYesCost': 0.02, 'bestBuyNoCost': 0.99, 'bestSellYesCost': 0.01, 'bestSellNoCost': 0.98, 'lastClosePrice': 0.01, 'displayOrder': 0}]",
         "2025-02-21T14:00:58.2098913",
         "Open"
        ],
        [
         "8",
         "8127",
         "How many Yea votes in the House by April 15 to begin reconciliation?",
         "House Yeas to begin reconciliation?",
         "https://cdn1.predictit.org/images/Markets/c09d1703-ca6c-4230-8641-23d0e7fa29ad.png",
         "https://www.predictit.org/markets/detail/8127/How-many-Yea-votes-in-the-House-by-April-15-to-begin-reconciliation",
         "[{'id': 31734, 'dateEnd': '2025-04-15T23:59:00', 'image': 'https://cdn1.predictit.org/images/Contracts/small_dd478de0-c068-44c0-8aaf-0d93ee3edd0e.png', 'name': '214 or fewer', 'shortName': '214 or fewer', 'status': 'Open', 'lastTradePrice': 0.32, 'bestBuyYesCost': 0.32, 'bestBuyNoCost': 0.71, 'bestSellYesCost': 0.29, 'bestSellNoCost': 0.68, 'lastClosePrice': 0.28, 'displayOrder': 0}, {'id': 31735, 'dateEnd': '2025-04-15T23:59:00', 'image': 'https://cdn1.predictit.org/images/Contracts/small_dd478de0-c068-44c0-8aaf-0d93ee3edd0e.png', 'name': '215', 'shortName': '215', 'status': 'Open', 'lastTradePrice': 0.06, 'bestBuyYesCost': 0.07, 'bestBuyNoCost': 0.94, 'bestSellYesCost': 0.06, 'bestSellNoCost': 0.93, 'lastClosePrice': 0.06, 'displayOrder': 0}, {'id': 31736, 'dateEnd': '2025-04-15T23:59:00', 'image': 'https://cdn1.predictit.org/images/Contracts/small_dd478de0-c068-44c0-8aaf-0d93ee3edd0e.png', 'name': '216', 'shortName': '216', 'status': 'Open', 'lastTradePrice': 0.12, 'bestBuyYesCost': 0.14, 'bestBuyNoCost': 0.88, 'bestSellYesCost': 0.12, 'bestSellNoCost': 0.86, 'lastClosePrice': 0.11, 'displayOrder': 0}, {'id': 31737, 'dateEnd': '2025-04-15T23:59:00', 'image': 'https://cdn1.predictit.org/images/Contracts/small_dd478de0-c068-44c0-8aaf-0d93ee3edd0e.png', 'name': '217', 'shortName': '217', 'status': 'Open', 'lastTradePrice': 0.23, 'bestBuyYesCost': 0.26, 'bestBuyNoCost': 0.77, 'bestSellYesCost': 0.23, 'bestSellNoCost': 0.74, 'lastClosePrice': 0.26, 'displayOrder': 0}, {'id': 31738, 'dateEnd': '2025-04-15T23:59:00', 'image': 'https://cdn1.predictit.org/images/Contracts/small_dd478de0-c068-44c0-8aaf-0d93ee3edd0e.png', 'name': '218', 'shortName': '218', 'status': 'Open', 'lastTradePrice': 0.25, 'bestBuyYesCost': 0.28, 'bestBuyNoCost': 0.77, 'bestSellYesCost': 0.23, 'bestSellNoCost': 0.72, 'lastClosePrice': 0.2, 'displayOrder': 0}, {'id': 31739, 'dateEnd': '2025-04-15T23:59:00', 'image': 'https://cdn1.predictit.org/images/Contracts/small_dd478de0-c068-44c0-8aaf-0d93ee3edd0e.png', 'name': '219', 'shortName': '219', 'status': 'Open', 'lastTradePrice': 0.03, 'bestBuyYesCost': 0.04, 'bestBuyNoCost': 0.97, 'bestSellYesCost': 0.03, 'bestSellNoCost': 0.96, 'lastClosePrice': 0.04, 'displayOrder': 0}, {'id': 31740, 'dateEnd': '2025-04-15T23:59:00', 'image': 'https://cdn1.predictit.org/images/Contracts/small_dd478de0-c068-44c0-8aaf-0d93ee3edd0e.png', 'name': '220', 'shortName': '220', 'status': 'Open', 'lastTradePrice': 0.05, 'bestBuyYesCost': 0.06, 'bestBuyNoCost': 0.95, 'bestSellYesCost': 0.05, 'bestSellNoCost': 0.94, 'lastClosePrice': 0.05, 'displayOrder': 0}, {'id': 31742, 'dateEnd': '2025-04-15T23:59:00', 'image': 'https://cdn1.predictit.org/images/Contracts/small_dd478de0-c068-44c0-8aaf-0d93ee3edd0e.png', 'name': '221', 'shortName': '221', 'status': 'Open', 'lastTradePrice': 0.01, 'bestBuyYesCost': 0.02, 'bestBuyNoCost': 0.99, 'bestSellYesCost': 0.01, 'bestSellNoCost': 0.98, 'lastClosePrice': 0.01, 'displayOrder': 0}, {'id': 31741, 'dateEnd': '2025-04-15T23:59:00', 'image': 'https://cdn1.predictit.org/images/Contracts/small_dd478de0-c068-44c0-8aaf-0d93ee3edd0e.png', 'name': '222 or more', 'shortName': '222 or more', 'status': 'Open', 'lastTradePrice': 0.01, 'bestBuyYesCost': 0.02, 'bestBuyNoCost': None, 'bestSellYesCost': None, 'bestSellNoCost': 0.98, 'lastClosePrice': 0.01, 'displayOrder': 0}]",
         "2025-02-21T14:00:58.2098913",
         "Open"
        ],
        [
         "9",
         "8128",
         "Will Eric Adams leave the office of Mayor of New York before April 1?",
         "Adams out as NYC Mayor?",
         "https://cdn1.predictit.org/images/Markets/aad7d31c-c23f-4cb5-8d9c-30b70acc5c24.jpg",
         "https://www.predictit.org/markets/detail/8128/Will-Eric-Adams-leave-the-office-of-Mayor-of-New-York-before-April-1",
         "[{'id': 31744, 'dateEnd': '2025-03-31T23:59:00', 'image': 'https://cdn1.predictit.org/images/Contracts/small_aad7d31c-c23f-4cb5-8d9c-30b70acc5c24.jpg', 'name': 'Will Eric Adams leave the office of Mayor of New York before April 1?', 'shortName': 'Adams out as NYC Mayor?', 'status': 'Open', 'lastTradePrice': 0.13, 'bestBuyYesCost': 0.16, 'bestBuyNoCost': 0.88, 'bestSellYesCost': 0.12, 'bestSellNoCost': 0.84, 'lastClosePrice': 0.18, 'displayOrder': 0}]",
         "2025-02-21T14:00:58.2098913",
         "Open"
        ],
        [
         "10",
         "8129",
         "How many Yea votes in the Senate by May 16 to pass a reconciliation bill?",
         "Senate Yeas to pass reconciliation?",
         "https://cdn1.predictit.org/images/Markets/a2b71f84-049b-4276-809c-7c6c21492431.png",
         "https://www.predictit.org/markets/detail/8129/How-many-Yea-votes-in-the-Senate-by-May-16-to-pass-a-reconciliation-bill",
         "[{'id': 31745, 'dateEnd': '2025-05-16T23:59:00', 'image': 'https://cdn1.predictit.org/images/Contracts/small_a2b71f84-049b-4276-809c-7c6c21492431.png', 'name': '48 or fewer', 'shortName': '48 or fewer', 'status': 'Open', 'lastTradePrice': 0.0, 'bestBuyYesCost': None, 'bestBuyNoCost': 0.97, 'bestSellYesCost': 0.03, 'bestSellNoCost': None, 'lastClosePrice': None, 'displayOrder': 0}, {'id': 31753, 'dateEnd': '2025-05-16T23:59:00', 'image': 'https://cdn1.predictit.org/images/Contracts/small_a2b71f84-049b-4276-809c-7c6c21492431.png', 'name': '49', 'shortName': '49', 'status': 'Open', 'lastTradePrice': 0.0, 'bestBuyYesCost': 0.03, 'bestBuyNoCost': 0.98, 'bestSellYesCost': 0.02, 'bestSellNoCost': 0.97, 'lastClosePrice': None, 'displayOrder': 0}, {'id': 31752, 'dateEnd': '2025-05-16T23:59:00', 'image': 'https://cdn1.predictit.org/images/Contracts/small_a2b71f84-049b-4276-809c-7c6c21492431.png', 'name': '50', 'shortName': '50', 'status': 'Open', 'lastTradePrice': 0.0, 'bestBuyYesCost': 0.15, 'bestBuyNoCost': 0.97, 'bestSellYesCost': 0.03, 'bestSellNoCost': 0.85, 'lastClosePrice': None, 'displayOrder': 0}, {'id': 31746, 'dateEnd': '2025-05-16T23:59:00', 'image': 'https://cdn1.predictit.org/images/Contracts/small_a2b71f84-049b-4276-809c-7c6c21492431.png', 'name': '51', 'shortName': '51', 'status': 'Open', 'lastTradePrice': 0.0, 'bestBuyYesCost': None, 'bestBuyNoCost': 0.94, 'bestSellYesCost': 0.06, 'bestSellNoCost': None, 'lastClosePrice': None, 'displayOrder': 0}, {'id': 31747, 'dateEnd': '2025-05-16T23:59:00', 'image': 'https://cdn1.predictit.org/images/Contracts/small_a2b71f84-049b-4276-809c-7c6c21492431.png', 'name': '52', 'shortName': '52', 'status': 'Open', 'lastTradePrice': 0.0, 'bestBuyYesCost': 0.65, 'bestBuyNoCost': 0.5, 'bestSellYesCost': 0.5, 'bestSellNoCost': 0.35, 'lastClosePrice': None, 'displayOrder': 0}, {'id': 31748, 'dateEnd': '2025-05-16T23:59:00', 'image': 'https://cdn1.predictit.org/images/Contracts/small_a2b71f84-049b-4276-809c-7c6c21492431.png', 'name': '53', 'shortName': '53', 'status': 'Open', 'lastTradePrice': 0.0, 'bestBuyYesCost': None, 'bestBuyNoCost': 0.86, 'bestSellYesCost': 0.14, 'bestSellNoCost': None, 'lastClosePrice': None, 'displayOrder': 0}, {'id': 31749, 'dateEnd': '2025-05-16T23:59:00', 'image': 'https://cdn1.predictit.org/images/Contracts/small_a2b71f84-049b-4276-809c-7c6c21492431.png', 'name': '54', 'shortName': '54', 'status': 'Open', 'lastTradePrice': 0.0, 'bestBuyYesCost': 0.13, 'bestBuyNoCost': 0.96, 'bestSellYesCost': 0.04, 'bestSellNoCost': 0.87, 'lastClosePrice': None, 'displayOrder': 0}, {'id': 31750, 'dateEnd': '2025-05-16T23:59:00', 'image': 'https://cdn1.predictit.org/images/Contracts/small_a2b71f84-049b-4276-809c-7c6c21492431.png', 'name': '55', 'shortName': '55', 'status': 'Open', 'lastTradePrice': 0.02, 'bestBuyYesCost': 0.02, 'bestBuyNoCost': 0.99, 'bestSellYesCost': 0.01, 'bestSellNoCost': 0.98, 'lastClosePrice': None, 'displayOrder': 0}, {'id': 31751, 'dateEnd': '2025-05-16T23:59:00', 'image': 'https://cdn1.predictit.org/images/Contracts/small_a2b71f84-049b-4276-809c-7c6c21492431.png', 'name': '56 or more', 'shortName': '56 or more', 'status': 'Open', 'lastTradePrice': 0.02, 'bestBuyYesCost': 0.02, 'bestBuyNoCost': 0.99, 'bestSellYesCost': 0.01, 'bestSellNoCost': 0.98, 'lastClosePrice': None, 'displayOrder': 0}]",
         "2025-02-21T14:00:58.2098913",
         "Open"
        ]
       ],
       "shape": {
        "columns": 8,
        "rows": 11
       }
      },
      "text/html": [
       "<div>\n",
       "<style scoped>\n",
       "    .dataframe tbody tr th:only-of-type {\n",
       "        vertical-align: middle;\n",
       "    }\n",
       "\n",
       "    .dataframe tbody tr th {\n",
       "        vertical-align: top;\n",
       "    }\n",
       "\n",
       "    .dataframe thead th {\n",
       "        text-align: right;\n",
       "    }\n",
       "</style>\n",
       "<table border=\"1\" class=\"dataframe\">\n",
       "  <thead>\n",
       "    <tr style=\"text-align: right;\">\n",
       "      <th></th>\n",
       "      <th>id</th>\n",
       "      <th>name</th>\n",
       "      <th>shortName</th>\n",
       "      <th>image</th>\n",
       "      <th>url</th>\n",
       "      <th>contracts</th>\n",
       "      <th>timeStamp</th>\n",
       "      <th>status</th>\n",
       "    </tr>\n",
       "  </thead>\n",
       "  <tbody>\n",
       "    <tr>\n",
       "      <th>0</th>\n",
       "      <td>8095</td>\n",
       "      <td>Who will win the Democratic nomination for May...</td>\n",
       "      <td>NYC Mayor Democratic nominee?</td>\n",
       "      <td>https://cdn1.predictit.org/images/Markets/05e2...</td>\n",
       "      <td>https://www.predictit.org/markets/detail/8095/...</td>\n",
       "      <td>[{'id': 31464, 'dateEnd': 'NA', 'image': 'http...</td>\n",
       "      <td>2025-02-21T14:00:58.2098913</td>\n",
       "      <td>Open</td>\n",
       "    </tr>\n",
       "    <tr>\n",
       "      <th>1</th>\n",
       "      <td>8099</td>\n",
       "      <td>Which party will win the 2025 gubernatorial el...</td>\n",
       "      <td>Which party will win VA governor's race?</td>\n",
       "      <td>https://cdn1.predictit.org/images/Markets/ca45...</td>\n",
       "      <td>https://www.predictit.org/markets/detail/8099/...</td>\n",
       "      <td>[{'id': 31488, 'dateEnd': 'NA', 'image': 'http...</td>\n",
       "      <td>2025-02-21T14:00:58.2098913</td>\n",
       "      <td>Open</td>\n",
       "    </tr>\n",
       "    <tr>\n",
       "      <th>2</th>\n",
       "      <td>8100</td>\n",
       "      <td>Will Congress confirm a Supreme Court justice ...</td>\n",
       "      <td>SCOTUS justice confirmed in 2025?</td>\n",
       "      <td>https://cdn1.predictit.org/images/Markets/7065...</td>\n",
       "      <td>https://www.predictit.org/markets/detail/8100/...</td>\n",
       "      <td>[{'id': 31489, 'dateEnd': '2025-12-31T23:59:00...</td>\n",
       "      <td>2025-02-21T14:00:58.2098913</td>\n",
       "      <td>Open</td>\n",
       "    </tr>\n",
       "    <tr>\n",
       "      <th>3</th>\n",
       "      <td>8118</td>\n",
       "      <td>Who will win the Spring 2025 Wisconsin Supreme...</td>\n",
       "      <td>Who will win WI Supreme Court election?</td>\n",
       "      <td>https://cdn1.predictit.org/images/Markets/1b2b...</td>\n",
       "      <td>https://www.predictit.org/markets/detail/8118/...</td>\n",
       "      <td>[{'id': 31657, 'dateEnd': 'NA', 'image': 'http...</td>\n",
       "      <td>2025-02-21T14:00:58.2098913</td>\n",
       "      <td>Open</td>\n",
       "    </tr>\n",
       "    <tr>\n",
       "      <th>4</th>\n",
       "      <td>8119</td>\n",
       "      <td>How many votes to confirm Lori Chavez-DeRemer ...</td>\n",
       "      <td>Votes for Chavez-DeRemer as Labor Sec?</td>\n",
       "      <td>https://cdn1.predictit.org/images/Markets/36dc...</td>\n",
       "      <td>https://www.predictit.org/markets/detail/8119/...</td>\n",
       "      <td>[{'id': 31659, 'dateEnd': '2025-04-30T23:59:00...</td>\n",
       "      <td>2025-02-21T14:00:58.2098913</td>\n",
       "      <td>Open</td>\n",
       "    </tr>\n",
       "    <tr>\n",
       "      <th>5</th>\n",
       "      <td>8120</td>\n",
       "      <td>How many votes to confirm Linda McMahon as Sec...</td>\n",
       "      <td>Votes for McMahon at Education?</td>\n",
       "      <td>https://cdn1.predictit.org/images/Markets/7fb7...</td>\n",
       "      <td>https://www.predictit.org/markets/detail/8120/...</td>\n",
       "      <td>[{'id': 31669, 'dateEnd': '2025-04-30T23:59:00...</td>\n",
       "      <td>2025-02-21T14:00:58.2098913</td>\n",
       "      <td>Open</td>\n",
       "    </tr>\n",
       "    <tr>\n",
       "      <th>6</th>\n",
       "      <td>8122</td>\n",
       "      <td>How many votes to confirm Elise Stefanik as UN...</td>\n",
       "      <td>Votes for Stefanik as UN Ambassador?</td>\n",
       "      <td>https://cdn1.predictit.org/images/Markets/e942...</td>\n",
       "      <td>https://www.predictit.org/markets/detail/8122/...</td>\n",
       "      <td>[{'id': 31689, 'dateEnd': '2025-04-30T23:59:00...</td>\n",
       "      <td>2025-02-21T14:00:58.2098913</td>\n",
       "      <td>Open</td>\n",
       "    </tr>\n",
       "    <tr>\n",
       "      <th>7</th>\n",
       "      <td>8123</td>\n",
       "      <td>Who will win the 2025 New Jersey Democratic gu...</td>\n",
       "      <td>NJ Governor Democratic nominee?</td>\n",
       "      <td>https://cdn1.predictit.org/images/Markets/2847...</td>\n",
       "      <td>https://www.predictit.org/markets/detail/8123/...</td>\n",
       "      <td>[{'id': 31702, 'dateEnd': 'NA', 'image': 'http...</td>\n",
       "      <td>2025-02-21T14:00:58.2098913</td>\n",
       "      <td>Open</td>\n",
       "    </tr>\n",
       "    <tr>\n",
       "      <th>8</th>\n",
       "      <td>8127</td>\n",
       "      <td>How many Yea votes in the House by April 15 to...</td>\n",
       "      <td>House Yeas to begin reconciliation?</td>\n",
       "      <td>https://cdn1.predictit.org/images/Markets/c09d...</td>\n",
       "      <td>https://www.predictit.org/markets/detail/8127/...</td>\n",
       "      <td>[{'id': 31734, 'dateEnd': '2025-04-15T23:59:00...</td>\n",
       "      <td>2025-02-21T14:00:58.2098913</td>\n",
       "      <td>Open</td>\n",
       "    </tr>\n",
       "    <tr>\n",
       "      <th>9</th>\n",
       "      <td>8128</td>\n",
       "      <td>Will Eric Adams leave the office of Mayor of N...</td>\n",
       "      <td>Adams out as NYC Mayor?</td>\n",
       "      <td>https://cdn1.predictit.org/images/Markets/aad7...</td>\n",
       "      <td>https://www.predictit.org/markets/detail/8128/...</td>\n",
       "      <td>[{'id': 31744, 'dateEnd': '2025-03-31T23:59:00...</td>\n",
       "      <td>2025-02-21T14:00:58.2098913</td>\n",
       "      <td>Open</td>\n",
       "    </tr>\n",
       "    <tr>\n",
       "      <th>10</th>\n",
       "      <td>8129</td>\n",
       "      <td>How many Yea votes in the Senate by May 16 to ...</td>\n",
       "      <td>Senate Yeas to pass reconciliation?</td>\n",
       "      <td>https://cdn1.predictit.org/images/Markets/a2b7...</td>\n",
       "      <td>https://www.predictit.org/markets/detail/8129/...</td>\n",
       "      <td>[{'id': 31745, 'dateEnd': '2025-05-16T23:59:00...</td>\n",
       "      <td>2025-02-21T14:00:58.2098913</td>\n",
       "      <td>Open</td>\n",
       "    </tr>\n",
       "  </tbody>\n",
       "</table>\n",
       "</div>"
      ],
      "text/plain": [
       "      id                                               name  \\\n",
       "0   8095  Who will win the Democratic nomination for May...   \n",
       "1   8099  Which party will win the 2025 gubernatorial el...   \n",
       "2   8100  Will Congress confirm a Supreme Court justice ...   \n",
       "3   8118  Who will win the Spring 2025 Wisconsin Supreme...   \n",
       "4   8119  How many votes to confirm Lori Chavez-DeRemer ...   \n",
       "5   8120  How many votes to confirm Linda McMahon as Sec...   \n",
       "6   8122  How many votes to confirm Elise Stefanik as UN...   \n",
       "7   8123  Who will win the 2025 New Jersey Democratic gu...   \n",
       "8   8127  How many Yea votes in the House by April 15 to...   \n",
       "9   8128  Will Eric Adams leave the office of Mayor of N...   \n",
       "10  8129  How many Yea votes in the Senate by May 16 to ...   \n",
       "\n",
       "                                   shortName  \\\n",
       "0              NYC Mayor Democratic nominee?   \n",
       "1   Which party will win VA governor's race?   \n",
       "2          SCOTUS justice confirmed in 2025?   \n",
       "3    Who will win WI Supreme Court election?   \n",
       "4     Votes for Chavez-DeRemer as Labor Sec?   \n",
       "5            Votes for McMahon at Education?   \n",
       "6       Votes for Stefanik as UN Ambassador?   \n",
       "7            NJ Governor Democratic nominee?   \n",
       "8        House Yeas to begin reconciliation?   \n",
       "9                    Adams out as NYC Mayor?   \n",
       "10       Senate Yeas to pass reconciliation?   \n",
       "\n",
       "                                                image  \\\n",
       "0   https://cdn1.predictit.org/images/Markets/05e2...   \n",
       "1   https://cdn1.predictit.org/images/Markets/ca45...   \n",
       "2   https://cdn1.predictit.org/images/Markets/7065...   \n",
       "3   https://cdn1.predictit.org/images/Markets/1b2b...   \n",
       "4   https://cdn1.predictit.org/images/Markets/36dc...   \n",
       "5   https://cdn1.predictit.org/images/Markets/7fb7...   \n",
       "6   https://cdn1.predictit.org/images/Markets/e942...   \n",
       "7   https://cdn1.predictit.org/images/Markets/2847...   \n",
       "8   https://cdn1.predictit.org/images/Markets/c09d...   \n",
       "9   https://cdn1.predictit.org/images/Markets/aad7...   \n",
       "10  https://cdn1.predictit.org/images/Markets/a2b7...   \n",
       "\n",
       "                                                  url  \\\n",
       "0   https://www.predictit.org/markets/detail/8095/...   \n",
       "1   https://www.predictit.org/markets/detail/8099/...   \n",
       "2   https://www.predictit.org/markets/detail/8100/...   \n",
       "3   https://www.predictit.org/markets/detail/8118/...   \n",
       "4   https://www.predictit.org/markets/detail/8119/...   \n",
       "5   https://www.predictit.org/markets/detail/8120/...   \n",
       "6   https://www.predictit.org/markets/detail/8122/...   \n",
       "7   https://www.predictit.org/markets/detail/8123/...   \n",
       "8   https://www.predictit.org/markets/detail/8127/...   \n",
       "9   https://www.predictit.org/markets/detail/8128/...   \n",
       "10  https://www.predictit.org/markets/detail/8129/...   \n",
       "\n",
       "                                            contracts  \\\n",
       "0   [{'id': 31464, 'dateEnd': 'NA', 'image': 'http...   \n",
       "1   [{'id': 31488, 'dateEnd': 'NA', 'image': 'http...   \n",
       "2   [{'id': 31489, 'dateEnd': '2025-12-31T23:59:00...   \n",
       "3   [{'id': 31657, 'dateEnd': 'NA', 'image': 'http...   \n",
       "4   [{'id': 31659, 'dateEnd': '2025-04-30T23:59:00...   \n",
       "5   [{'id': 31669, 'dateEnd': '2025-04-30T23:59:00...   \n",
       "6   [{'id': 31689, 'dateEnd': '2025-04-30T23:59:00...   \n",
       "7   [{'id': 31702, 'dateEnd': 'NA', 'image': 'http...   \n",
       "8   [{'id': 31734, 'dateEnd': '2025-04-15T23:59:00...   \n",
       "9   [{'id': 31744, 'dateEnd': '2025-03-31T23:59:00...   \n",
       "10  [{'id': 31745, 'dateEnd': '2025-05-16T23:59:00...   \n",
       "\n",
       "                      timeStamp status  \n",
       "0   2025-02-21T14:00:58.2098913   Open  \n",
       "1   2025-02-21T14:00:58.2098913   Open  \n",
       "2   2025-02-21T14:00:58.2098913   Open  \n",
       "3   2025-02-21T14:00:58.2098913   Open  \n",
       "4   2025-02-21T14:00:58.2098913   Open  \n",
       "5   2025-02-21T14:00:58.2098913   Open  \n",
       "6   2025-02-21T14:00:58.2098913   Open  \n",
       "7   2025-02-21T14:00:58.2098913   Open  \n",
       "8   2025-02-21T14:00:58.2098913   Open  \n",
       "9   2025-02-21T14:00:58.2098913   Open  \n",
       "10  2025-02-21T14:00:58.2098913   Open  "
      ]
     },
     "execution_count": 5,
     "metadata": {},
     "output_type": "execute_result"
    }
   ],
   "source": [
    "df"
   ]
  },
  {
   "cell_type": "code",
   "execution_count": 4,
   "metadata": {},
   "outputs": [
    {
     "name": "stdout",
     "output_type": "stream",
     "text": [
      "<class 'pandas.core.frame.DataFrame'>\n",
      "RangeIndex: 11 entries, 0 to 10\n",
      "Data columns (total 8 columns):\n",
      " #   Column     Non-Null Count  Dtype \n",
      "---  ------     --------------  ----- \n",
      " 0   id         11 non-null     int64 \n",
      " 1   name       11 non-null     object\n",
      " 2   shortName  11 non-null     object\n",
      " 3   image      11 non-null     object\n",
      " 4   url        11 non-null     object\n",
      " 5   contracts  11 non-null     object\n",
      " 6   timeStamp  11 non-null     object\n",
      " 7   status     11 non-null     object\n",
      "dtypes: int64(1), object(7)\n",
      "memory usage: 836.0+ bytes\n"
     ]
    }
   ],
   "source": [
    "df.info()"
   ]
  },
  {
   "cell_type": "code",
   "execution_count": null,
   "metadata": {},
   "outputs": [
    {
     "data": {
      "text/plain": [
       "(True,\n",
       " 1,\n",
       " 12,\n",
       " [('oftylkujlq/file0.txt', 'LOADED', 12, 12, 1, 0, None, None, None, None)])"
      ]
     },
     "execution_count": 10,
     "metadata": {},
     "output_type": "execute_result"
    }
   ],
   "source": []
  }
 ],
 "metadata": {
  "kernelspec": {
   "display_name": "venv",
   "language": "python",
   "name": "python3"
  },
  "language_info": {
   "codemirror_mode": {
    "name": "ipython",
    "version": 3
   },
   "file_extension": ".py",
   "mimetype": "text/x-python",
   "name": "python",
   "nbconvert_exporter": "python",
   "pygments_lexer": "ipython3",
   "version": "3.13.1"
  }
 },
 "nbformat": 4,
 "nbformat_minor": 2
}
